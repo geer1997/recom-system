{
  "nbformat": 4,
  "nbformat_minor": 0,
  "metadata": {
    "colab": {
      "name": "Preprocesamiento del dataset - Modelo 5.ipynb",
      "provenance": [],
      "collapsed_sections": [
        "sIzRf-n4Cpmu",
        "bI43C3MNEZJZ"
      ]
    },
    "kernelspec": {
      "name": "python3",
      "display_name": "Python 3"
    },
    "accelerator": "GPU"
  },
  "cells": [
    {
      "cell_type": "markdown",
      "metadata": {
        "colab_type": "text",
        "id": "S1rdF05ZOTgX"
      },
      "outputs": [],
      "source": [
        "**Modelo predictivo: recomendación académica de los estudiantes de la Universidad Metropolitana**\n",
        "\n",
        "Universidad Metropolitana\n",
        "\n",
        "Proyecto de Investigación de Ingeniería de Sistemas\n",
        "\n",
        "PREPROCESAMIENTO DE DATOS\n"
      ]
    },
    {
      "cell_type": "code",
      "execution_count": 0,
      "metadata": {
        "colab": {},
        "colab_type": "code",
        "id": "xXo70VWgOeni"
      },
      "outputs": [],
      "source": [
        "import pandas as pd\n",
        "import numpy as np\n",
        "import os\n",
        "from sklearn.model_selection import train_test_split"
      ]
    },
    {
      "cell_type": "markdown",
      "metadata": {
        "colab_type": "text",
        "id": "Ee-O1b1CAd7b"
      },
      "outputs": [],
      "source": [
        "## Funciones auxiliares para el preprocesamiento de la data"
      ]
    },
    {
      "cell_type": "markdown",
      "metadata": {
        "colab_type": "text",
        "id": "_E4-j4PGcKFD"
      },
      "outputs": [],
      "source": [
        "**Clasificación de las notas**\n",
        "\n",
        "Se verifica la nota del estudiante y se clasifica de la siguiente manera:\n",
        "\n",
        "1.   Mal: si obtuvo una nota entre 10 y 12.\n",
        "2.   Bien: si obtuvo una nota de 13 en adelante, APRO, SOB (Servicio Com.), SOBR (TTG), o NOT (Servicio Com. y TTG)\n",
        "3. Reprobo: si reprobó u obtuvo DIFE\n",
        "4. Retiro: si retiro la materia"
      ]
    },
    {
      "cell_type": "code",
      "execution_count": 0,
      "metadata": {
        "colab": {},
        "colab_type": "code",
        "id": "rn7U9ecF1Tcl"
      },
      "outputs": [],
      "source": [
        "def asignar_clas(x):\n",
        "    if(x == '#'):\n",
        "        return 'R'\n",
        "    elif(x == 'NREQ'):\n",
        "        return 'NREQ'\n",
        "    elif (x == 'SOB' or x == 'SOBR' or x == 'NOT' or x == 'APRO' or x == 'CONT'):\n",
        "      return 'Bien'\n",
        "    elif(x == 'DIFE' or x == 'REPR'):\n",
        "        return 'Reprobo'\n",
        "    elif(int(x) < 10):\n",
        "        return 'Reprobo'\n",
        "    elif(int(x) < 13):\n",
        "        return 'Mal'\n",
        "    elif(int(x) <= 20): \n",
        "        return 'Bien'  "
      ]
    },
    {
      "cell_type": "code",
      "execution_count": 0,
      "metadata": {
        "colab": {},
        "colab_type": "code",
        "id": "YjqyEPj0cRPU"
      },
      "outputs": [],
      "source": [
        "# Función para separar la materia de Servicio Comunitario en dos: inicial y continua\n",
        "def separar_sc(x):\n",
        "    if(x == 'CONT'):\n",
        "        return 'BPTDI01-1'\n",
        "    else:\n",
        "        return 'BPTDI01-2'"
      ]
    },
    {
      "cell_type": "code",
      "execution_count": 0,
      "metadata": {
        "colab": {},
        "colab_type": "code",
        "id": "chgRUh69TQK_"
      },
      "outputs": [],
      "source": [
        "# Se filtra el dataset para trabajar solo con las materias de ingeniería de sistemas\n",
        "def filtrar_materias(notas):    \n",
        "    ing_sistemas = {'FBPCE03','FBPCE04','FBPLI01','FBPLI02','FBPMM01','FBPMM02',\n",
        "                    'FBPIN01','FBPIN02','FBPIN03',\n",
        "                    'FBTMM00','FBTHU01','FBTCE03','FBTIE02','FBTIN04',\n",
        "                    'FBTMM01','FBTHU02','FBTCE04','FBTIE03','FBTIN05',\n",
        "                    'BPTMI01','BPTPI07','BPTQI21','FBTSP03',\n",
        "                    'BPTMI02','BPTMI30','BPTQI22','BPTFI01',\n",
        "                    'BPTMI03','BPTSP05','BPTFI02',\n",
        "                    'BPTMI04','BPTMI31','BPTSP06','BPTEN12','BPTFI03',\n",
        "                    'BPTMI11','FPTSP04','BPTSP03','BPTFI04',\n",
        "                    'BPTMI05','FPTSP17','FPTSP01','BPTSP04','FPTEN23',\n",
        "                    'FBTIE01','FPTSP19','FPTSP07','FPTSP02','BPTMI20',\n",
        "                    'FPTPI09','FPTSP21','FPTSP20','FPTMI21','FPTSP22',\n",
        "                    'FPTSP11','FPTSP18','FPTSP23',\n",
        "                    'FPTSP14','FPTSP15','FPTCS16','FPTSP25','FPTIS01',\n",
        "                    'FGE0000','FGS0000','BPTDI01-1','BPTDI01-2'}\n",
        "    \n",
        "    temp_notas = notas\n",
        "    mask = temp_notas['asignatura'].isin(ing_sistemas)\n",
        "    temp_notas = temp_notas[mask]\n",
        "    return temp_notas\n"
      ]
    },
    {
      "cell_type": "markdown",
      "metadata": {
        "colab_type": "text",
        "id": "WgkadSYDAqA1"
      },
      "outputs": [],
      "source": [
        "## Preprocesamiento de los datos"
      ]
    },
    {
      "cell_type": "code",
      "execution_count": 0,
      "metadata": {
        "colab": {
          "base_uri": "https://localhost:8080/",
          "height": 122
        },
        "colab_type": "code",
        "id": "CcwcJA4g23xr",
        "outputId": "9def9d0b-920d-4a57-e665-4ed67048065b"
      },
      "outputs": [],
      "source": [
        "from google.colab import drive\n",
        "drive.mount('/content/drive')"
      ]
    },
    {
      "cell_type": "markdown",
      "metadata": {
        "colab_type": "text",
        "id": "sIzRf-n4Cpmu"
      },
      "outputs": [],
      "source": [
        "Se unifican los históricos de los estudiantes de cada trimestre en un solo conjunto"
      ]
    },
    {
      "cell_type": "code",
      "execution_count": 0,
      "metadata": {
        "colab": {
          "base_uri": "https://localhost:8080/",
          "height": 34
        },
        "colab_type": "code",
        "id": "ix8aM0jr1bnz",
        "outputId": "85150408-e774-4681-a28a-0164d92c3516"
      },
      "outputs": [],
      "source": [
        "notas = pd.DataFrame()\n",
        "for filename in os.listdir('drive/Shared drives/Tesis/Proyecto de investigación/Modelo 1/Datos/CSV'):\n",
        "    tmp = pd.read_csv('drive/Shared drives/Tesis/Proyecto de investigación/Modelo 1/Datos/CSV/' + filename, encoding='latin-1')\n",
        "    tmp['trimestre'] = filename.split('.')[0]\n",
        "    tmp = tmp[['asignatura','id', 'nombre_asignatura', 'nota', 'trimestre']]\n",
        "    notas = notas.append(tmp,sort=True)\n",
        "\n",
        "notas = notas.sort_values(by=['trimestre', 'id'])"
      ]
    },
    {
      "cell_type": "markdown",
      "metadata": {
        "colab_type": "text",
        "id": "M_YKdCDsFZgf"
      },
      "outputs": [],
      "source": [
        "Aplicación de distintas técnicas de preprocesamiento al conjunto de datos unificado: completar datos vacíos, unificar materias electivas y de selección respectivamente, clasificación de las notas y eliminación de filas no relevantes."
      ]
    },
    {
      "cell_type": "code",
      "execution_count": 0,
      "metadata": {
        "colab": {
          "base_uri": "https://localhost:8080/",
          "height": 307
        },
        "colab_type": "code",
        "id": "Jrof_Pr71dGo",
        "outputId": "248fdc9a-8876-4271-c0fa-c422396f0c44"
      },
      "outputs": [],
      "source": [
        "electivas = {'FGE': 'FGE', 'FGS': 'FGS'}\n",
        "notas['Electiva'] = notas['asignatura'].transform(lambda x: x[:3])\n",
        "notas['Electiva'] = notas['Electiva'].map(electivas)\n",
        "notas['Electiva'] = notas['Electiva'].fillna('NO')\n",
        "\n",
        "#Reemplazar los campos vacíos en la columna notas por #\n",
        "notas['nota'] = notas['nota'].fillna('#')\n",
        "\n",
        "#Separar la materia servicio comunitario en 2: BPTDI01-1 BPTDI01-2\n",
        "notas['asignatura'][notas['asignatura'] == 'BPTDI01'] = notas['nota'][notas['asignatura'] == 'BPTDI01'].transform(lambda x: separar_sc(x))\n",
        "\n",
        "#Unificar las materias electivas y de selección en un solo código de asignatura respectivamente\n",
        "notas['asignatura'][notas['Electiva'] == 'FGE'] = 'FGE0000'\n",
        "notas['asignatura'][notas['Electiva'] == 'FGS'] = 'FGS0000'\n",
        "\n",
        "#Añadir una columna indicando la clasificación de la nota obtenida\n",
        "notas['clasificacion_nota'] = notas['nota'].transform(lambda x: asignar_clas(x))\n",
        "notas = notas.drop(notas[notas['clasificacion_nota'] == 'NREQ'].index)\n",
        "\n",
        "#Eliminar las materias que no corresponden a la carrera de Ingeniería de Sistemas\n",
        "notas = filtrar_materias(notas)\n",
        "\n",
        "#Establecer el nombre de la columna a \n",
        "notas['one_hot'] = notas['asignatura'] + '_' + notas['clasificacion_nota']\n",
        "\n",
        "notas = notas.drop(['Electiva'], axis=1)\n",
        "\n",
        "#Exportar en csv los datos preprocesados\n",
        "# export_to_csv = notas.to_csv('notas_new_classes.csv')\n",
        "# !cp notas_new_classes.csv drive/Shared\\ drives/Tesis/Proyecto\\ de\\ investigación/Modelo\\ 5/Datos\n"
      ]
    },
    {
      "cell_type": "code",
      "execution_count": 0,
      "metadata": {
        "colab": {
          "base_uri": "https://localhost:8080/",
          "height": 546
        },
        "colab_type": "code",
        "id": "W_V7zSLs1eaT",
        "outputId": "146fd405-b262-425c-bbc9-ed190eae44a1"
      },
      "outputs": [],
      "source": [
        "# Mostrar ejemplo de la data preprocesada para un estudiante\n",
        "pd.set_option('display.max_rows', 100)\n",
        "notas[notas['id']==10090939]"
      ]
    },
    {
      "cell_type": "markdown",
      "metadata": {
        "colab_type": "text",
        "id": "bI43C3MNEZJZ"
      },
      "outputs": [],
      "source": [
        "### Implementación del one hot encoding de notas de los estudiantes por materias"
      ]
    },
    {
      "cell_type": "markdown",
      "metadata": {
        "colab_type": "text",
        "id": "BDe_qTSdHLCZ"
      },
      "outputs": [],
      "source": [
        "Obtención de las columnas del one hot"
      ]
    },
    {
      "cell_type": "code",
      "execution_count": 0,
      "metadata": {
        "colab": {
          "base_uri": "https://localhost:8080/",
          "height": 1000
        },
        "colab_type": "code",
        "id": "X7FskxjE1fzb",
        "outputId": "40e88716-c130-4f03-e32f-c2db4d15d062"
      },
      "outputs": [],
      "source": [
        "one_hot = []\n",
        "asignaturas = notas.asignatura.unique()\n",
        "asignaturas = np.sort(asignaturas)\n",
        "\n",
        "for asignatura in asignaturas:\n",
        "\n",
        "    for clas in notas.clasificacion_nota.unique():\n",
        "      \n",
        "        if(asignatura!= None and clas != None):\n",
        "            one_hot.append(asignatura+ '_' + clas)\n",
        "one_hot = np.sort(one_hot)"
      ]
    },
    {
      "cell_type": "code",
      "execution_count": 0,
      "metadata": {
        "colab": {},
        "colab_type": "code",
        "id": "PSD94oHthTJr"
      },
      "outputs": [],
      "source": [
        "from IPython.display import HTML, display\n",
        "import time\n",
        "\n",
        "def progress(value, max=100):\n",
        "    return HTML(\"\"\"\n",
        "        <progress\n",
        "            value='{value}'\n",
        "            max='{max}',\n",
        "            style='width: 100%'\n",
        "        >\n",
        "            {value}\n",
        "        </progress>\n",
        "    \"\"\".format(value=value, max=max))"
      ]
    },
    {
      "cell_type": "markdown",
      "metadata": {
        "colab_type": "text",
        "id": "j62BjsCSHUQX"
      },
      "outputs": [],
      "source": [
        "Se aplica la técnica de one hot encoding para representar los valores de las notas de cada estudiante en las distintas materias cursadas, estableciendo 1 en cada columna correspondiente a la materia cursada y la clasificación de nota obtenida por el mismo (ejemplo: BPTMI01_Bien), y 0 en las restantes."
      ]
    },
    {
      "cell_type": "code",
      "execution_count": 0,
      "metadata": {
        "colab": {
          "base_uri": "https://localhost:8080/",
          "height": 1000
        },
        "colab_type": "code",
        "id": "tOMJtAI_1gz2",
        "outputId": "415aaa83-72c2-4678-e4bc-c554e590739d"
      },
      "outputs": [],
      "source": [
        "df_train = pd.DataFrame()\n",
        "\n",
        "total_trim = notas.trimestre.unique().size\n",
        "i_trim = 0\n",
        "\n",
        "out_trim = display(progress(0, total_trim), display_id=True)\n",
        "out_estudiante = display(progress(0, 100), display_id=True)\n",
        "\n",
        "for trimestre in notas.trimestre.unique():\n",
        "    out_trim.update(progress(i_trim, total_trim))\n",
        "    \n",
        "    total_estudiante = notas['id'].unique().size\n",
        "    i_estudiante = 0\n",
        "    \n",
        "    for estudiante in notas['id'][notas['trimestre']==trimestre].unique():\n",
        "        out_estudiante.update(progress(i_estudiante, total_estudiante))\n",
        "        tmp = notas[notas['trimestre'] == trimestre]\n",
        "        row = {}\n",
        "        row['trimestre'] = trimestre\n",
        "        row['estudiante'] = estudiante\n",
        "        for i in one_hot:\n",
        "            row[i] = 0\n",
        "        for index, tupla in tmp[tmp['id'] == estudiante].iterrows():\n",
        "            materia = tupla['one_hot']\n",
        "            row[materia]=1\n",
        "        #print(row)\n",
        "        tmp2 = pd.DataFrame(row,index=[0])\n",
        "        df_train = df_train.append(tmp2)\n",
        "        i_estudiante += 1\n",
        "    i_trim += 1\n",
        "\n",
        "# Exportar el one hot encoding de las notas de los estudiantes en csv\n",
        "# export_to_csv = df_train.to_csv('one_hot_new_classes.csv')\n",
        "# !cp one_hot_new_classes.csv drive/Shared\\ drives/Tesis/Proyecto\\ de\\ investigación/Modelo\\ 5/Datos"
      ]
    }
  ]
}